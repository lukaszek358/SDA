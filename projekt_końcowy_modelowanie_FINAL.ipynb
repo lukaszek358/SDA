{
  "cells": [
    {
      "cell_type": "markdown",
      "metadata": {
        "id": "view-in-github",
        "colab_type": "text"
      },
      "source": [
        "<a href=\"https://colab.research.google.com/github/lukaszek358/SDA/blob/main/projekt_ko%C5%84cowy_modelowanie_FINAL.ipynb\" target=\"_parent\"><img src=\"https://colab.research.google.com/assets/colab-badge.svg\" alt=\"Open In Colab\"/></a>"
      ]
    },
    {
      "cell_type": "code",
      "execution_count": 1,
      "metadata": {
        "colab": {
          "base_uri": "https://localhost:8080/"
        },
        "id": "vFHz6QjxCGr4",
        "outputId": "6a6d6f83-6e4e-4403-b887-5272d492f3be"
      },
      "outputs": [
        {
          "output_type": "stream",
          "name": "stdout",
          "text": [
            "Mounted at /content/drive\n"
          ]
        }
      ],
      "source": [
        "from google.colab import drive\n",
        "drive.mount('/content/drive')"
      ]
    },
    {
      "cell_type": "markdown",
      "metadata": {
        "id": "2paBPSNp00Rj"
      },
      "source": [
        "# Modelowanie"
      ]
    },
    {
      "cell_type": "code",
      "execution_count": 2,
      "metadata": {
        "id": "6N55QbkTxQng"
      },
      "outputs": [],
      "source": [
        "import sklearn\n",
        "import pandas as pd\n",
        "\n",
        "\n",
        "from sklearn.model_selection import train_test_split\n",
        "\n",
        "from sklearn.model_selection import KFold #metoda walidacji krzyżowej, która dzieli zbiór danych na k podzbiorów o równej liczbie obserwacji\n",
        "\n",
        "from sklearn.model_selection import cross_val_score #automatycznie wykonuje walidację krzyżową dla modelu i zestawu danych\n",
        "from sklearn.model_selection import GridSearchCV #import biblioteki dla doboru optymalnych parametrów\n",
        "\n",
        "from sklearn.preprocessing import PolynomialFeatures #import biblioteki regresji wielomianowej\n",
        "from sklearn.linear_model import LinearRegression #import biblioteki regresji liniowej\n",
        "\n",
        "from sklearn.tree import DecisionTreeRegressor #import biblioteki dla drzew decyzyjnych\n",
        "from sklearn import tree #import modelu drzewa"
      ]
    },
    {
      "cell_type": "code",
      "execution_count": 3,
      "metadata": {
        "id": "bBDI3KT7QIBo"
      },
      "outputs": [],
      "source": [
        "data = pd.read_csv('/content/drive/MyDrive/preprocessing_flights.csv')\n",
        "data=data.drop('Unnamed: 0', axis = 1)"
      ]
    },
    {
      "cell_type": "code",
      "execution_count": 4,
      "metadata": {
        "id": "Sr6OnBw_F5bl"
      },
      "outputs": [],
      "source": [
        "sample_size = 15000\n",
        "sampled_data = data.sample(n= sample_size, random_state = 42)"
      ]
    },
    {
      "cell_type": "code",
      "execution_count": 5,
      "metadata": {
        "id": "ufWEdiXDQbm4",
        "colab": {
          "base_uri": "https://localhost:8080/",
          "height": 853
        },
        "outputId": "6eecc284-c144-4684-b3d1-3d53f42dd021"
      },
      "outputs": [
        {
          "output_type": "execute_result",
          "data": {
            "text/plain": [
              "               date  scheduled_departure  departure_delay  taxi_out  \\\n",
              "5142765  2015-03-26                  851              3.0      15.0   \n",
              "3901978  2015-07-03                  405             -6.0      11.0   \n",
              "1709905  2015-09-25                  360            -11.0      12.0   \n",
              "4853679  2015-07-01                 1278             13.0      15.0   \n",
              "2891404  2015-11-23                 1153             -6.0      23.0   \n",
              "...             ...                  ...              ...       ...   \n",
              "4955293  2015-12-14                 1088             86.0      21.0   \n",
              "2424300  2015-09-23                 1005             -1.0      24.0   \n",
              "3531424  2015-07-14                  715             18.0       7.0   \n",
              "5200874  2015-09-04                 1119            145.0      11.0   \n",
              "5115535  2015-02-04                  832             -4.0      43.0   \n",
              "\n",
              "         wheels_off  scheduled_time  distance  scheduled_arrival  \\\n",
              "5142765         869           217.0      1330               1068   \n",
              "3901978         410            90.0       495                435   \n",
              "1709905         361            73.0       273                433   \n",
              "4853679        1306           105.0       528               1383   \n",
              "2891404        1170           161.0      1075               1374   \n",
              "...             ...             ...       ...                ...   \n",
              "4955293        1195            57.0       164               1145   \n",
              "2424300        1028           321.0      2125               1146   \n",
              "3531424         740            85.0       480                800   \n",
              "5200874        1275           106.0       533               1225   \n",
              "5115535         871           152.0       789                924   \n",
              "\n",
              "         arrival_delay                      airline  ...  \\\n",
              "5142765          -23.0  Atlantic Southeast Airlines  ...   \n",
              "3901978           -4.0       Southwest Airlines Co.  ...   \n",
              "1709905          -23.0              JetBlue Airways  ...   \n",
              "4853679            9.0  Atlantic Southeast Airlines  ...   \n",
              "2891404            4.0        Skywest Airlines Inc.  ...   \n",
              "...                ...                          ...  ...   \n",
              "4955293           87.0  Atlantic Southeast Airlines  ...   \n",
              "2424300          -20.0       American Airlines Inc.  ...   \n",
              "3531424            9.0       Southwest Airlines Co.  ...   \n",
              "5200874          156.0  Atlantic Southeast Airlines  ...   \n",
              "5115535           19.0  Atlantic Southeast Airlines  ...   \n",
              "\n",
              "         airline_Delta Air Lines Inc.  airline_Frontier Airlines Inc.  \\\n",
              "5142765                             0                               0   \n",
              "3901978                             0                               0   \n",
              "1709905                             0                               0   \n",
              "4853679                             0                               0   \n",
              "2891404                             0                               0   \n",
              "...                               ...                             ...   \n",
              "4955293                             0                               0   \n",
              "2424300                             0                               0   \n",
              "3531424                             0                               0   \n",
              "5200874                             0                               0   \n",
              "5115535                             0                               0   \n",
              "\n",
              "         airline_Hawaiian Airlines Inc.  airline_JetBlue Airways  \\\n",
              "5142765                               0                        0   \n",
              "3901978                               0                        0   \n",
              "1709905                               0                        1   \n",
              "4853679                               0                        0   \n",
              "2891404                               0                        0   \n",
              "...                                 ...                      ...   \n",
              "4955293                               0                        0   \n",
              "2424300                               0                        0   \n",
              "3531424                               0                        0   \n",
              "5200874                               0                        0   \n",
              "5115535                               0                        0   \n",
              "\n",
              "         airline_Skywest Airlines Inc.  airline_Southwest Airlines Co.  \\\n",
              "5142765                              0                               0   \n",
              "3901978                              0                               1   \n",
              "1709905                              0                               0   \n",
              "4853679                              0                               0   \n",
              "2891404                              1                               0   \n",
              "...                                ...                             ...   \n",
              "4955293                              0                               0   \n",
              "2424300                              0                               0   \n",
              "3531424                              0                               1   \n",
              "5200874                              0                               0   \n",
              "5115535                              0                               0   \n",
              "\n",
              "         airline_Spirit Air Lines  airline_US Airways Inc.  \\\n",
              "5142765                         0                        0   \n",
              "3901978                         0                        0   \n",
              "1709905                         0                        0   \n",
              "4853679                         0                        0   \n",
              "2891404                         0                        0   \n",
              "...                           ...                      ...   \n",
              "4955293                         0                        0   \n",
              "2424300                         0                        0   \n",
              "3531424                         0                        0   \n",
              "5200874                         0                        0   \n",
              "5115535                         0                        0   \n",
              "\n",
              "         airline_United Air Lines Inc.  airline_Virgin America  \n",
              "5142765                              0                       0  \n",
              "3901978                              0                       0  \n",
              "1709905                              0                       0  \n",
              "4853679                              0                       0  \n",
              "2891404                              0                       0  \n",
              "...                                ...                     ...  \n",
              "4955293                              0                       0  \n",
              "2424300                              0                       0  \n",
              "3531424                              0                       0  \n",
              "5200874                              0                       0  \n",
              "5115535                              0                       0  \n",
              "\n",
              "[15000 rows x 34 columns]"
            ],
            "text/html": [
              "\n",
              "  <div id=\"df-2ebc2153-4413-467e-b96b-c9a9739063d6\">\n",
              "    <div class=\"colab-df-container\">\n",
              "      <div>\n",
              "<style scoped>\n",
              "    .dataframe tbody tr th:only-of-type {\n",
              "        vertical-align: middle;\n",
              "    }\n",
              "\n",
              "    .dataframe tbody tr th {\n",
              "        vertical-align: top;\n",
              "    }\n",
              "\n",
              "    .dataframe thead th {\n",
              "        text-align: right;\n",
              "    }\n",
              "</style>\n",
              "<table border=\"1\" class=\"dataframe\">\n",
              "  <thead>\n",
              "    <tr style=\"text-align: right;\">\n",
              "      <th></th>\n",
              "      <th>date</th>\n",
              "      <th>scheduled_departure</th>\n",
              "      <th>departure_delay</th>\n",
              "      <th>taxi_out</th>\n",
              "      <th>wheels_off</th>\n",
              "      <th>scheduled_time</th>\n",
              "      <th>distance</th>\n",
              "      <th>scheduled_arrival</th>\n",
              "      <th>arrival_delay</th>\n",
              "      <th>airline</th>\n",
              "      <th>...</th>\n",
              "      <th>airline_Delta Air Lines Inc.</th>\n",
              "      <th>airline_Frontier Airlines Inc.</th>\n",
              "      <th>airline_Hawaiian Airlines Inc.</th>\n",
              "      <th>airline_JetBlue Airways</th>\n",
              "      <th>airline_Skywest Airlines Inc.</th>\n",
              "      <th>airline_Southwest Airlines Co.</th>\n",
              "      <th>airline_Spirit Air Lines</th>\n",
              "      <th>airline_US Airways Inc.</th>\n",
              "      <th>airline_United Air Lines Inc.</th>\n",
              "      <th>airline_Virgin America</th>\n",
              "    </tr>\n",
              "  </thead>\n",
              "  <tbody>\n",
              "    <tr>\n",
              "      <th>5142765</th>\n",
              "      <td>2015-03-26</td>\n",
              "      <td>851</td>\n",
              "      <td>3.0</td>\n",
              "      <td>15.0</td>\n",
              "      <td>869</td>\n",
              "      <td>217.0</td>\n",
              "      <td>1330</td>\n",
              "      <td>1068</td>\n",
              "      <td>-23.0</td>\n",
              "      <td>Atlantic Southeast Airlines</td>\n",
              "      <td>...</td>\n",
              "      <td>0</td>\n",
              "      <td>0</td>\n",
              "      <td>0</td>\n",
              "      <td>0</td>\n",
              "      <td>0</td>\n",
              "      <td>0</td>\n",
              "      <td>0</td>\n",
              "      <td>0</td>\n",
              "      <td>0</td>\n",
              "      <td>0</td>\n",
              "    </tr>\n",
              "    <tr>\n",
              "      <th>3901978</th>\n",
              "      <td>2015-07-03</td>\n",
              "      <td>405</td>\n",
              "      <td>-6.0</td>\n",
              "      <td>11.0</td>\n",
              "      <td>410</td>\n",
              "      <td>90.0</td>\n",
              "      <td>495</td>\n",
              "      <td>435</td>\n",
              "      <td>-4.0</td>\n",
              "      <td>Southwest Airlines Co.</td>\n",
              "      <td>...</td>\n",
              "      <td>0</td>\n",
              "      <td>0</td>\n",
              "      <td>0</td>\n",
              "      <td>0</td>\n",
              "      <td>0</td>\n",
              "      <td>1</td>\n",
              "      <td>0</td>\n",
              "      <td>0</td>\n",
              "      <td>0</td>\n",
              "      <td>0</td>\n",
              "    </tr>\n",
              "    <tr>\n",
              "      <th>1709905</th>\n",
              "      <td>2015-09-25</td>\n",
              "      <td>360</td>\n",
              "      <td>-11.0</td>\n",
              "      <td>12.0</td>\n",
              "      <td>361</td>\n",
              "      <td>73.0</td>\n",
              "      <td>273</td>\n",
              "      <td>433</td>\n",
              "      <td>-23.0</td>\n",
              "      <td>JetBlue Airways</td>\n",
              "      <td>...</td>\n",
              "      <td>0</td>\n",
              "      <td>0</td>\n",
              "      <td>0</td>\n",
              "      <td>1</td>\n",
              "      <td>0</td>\n",
              "      <td>0</td>\n",
              "      <td>0</td>\n",
              "      <td>0</td>\n",
              "      <td>0</td>\n",
              "      <td>0</td>\n",
              "    </tr>\n",
              "    <tr>\n",
              "      <th>4853679</th>\n",
              "      <td>2015-07-01</td>\n",
              "      <td>1278</td>\n",
              "      <td>13.0</td>\n",
              "      <td>15.0</td>\n",
              "      <td>1306</td>\n",
              "      <td>105.0</td>\n",
              "      <td>528</td>\n",
              "      <td>1383</td>\n",
              "      <td>9.0</td>\n",
              "      <td>Atlantic Southeast Airlines</td>\n",
              "      <td>...</td>\n",
              "      <td>0</td>\n",
              "      <td>0</td>\n",
              "      <td>0</td>\n",
              "      <td>0</td>\n",
              "      <td>0</td>\n",
              "      <td>0</td>\n",
              "      <td>0</td>\n",
              "      <td>0</td>\n",
              "      <td>0</td>\n",
              "      <td>0</td>\n",
              "    </tr>\n",
              "    <tr>\n",
              "      <th>2891404</th>\n",
              "      <td>2015-11-23</td>\n",
              "      <td>1153</td>\n",
              "      <td>-6.0</td>\n",
              "      <td>23.0</td>\n",
              "      <td>1170</td>\n",
              "      <td>161.0</td>\n",
              "      <td>1075</td>\n",
              "      <td>1374</td>\n",
              "      <td>4.0</td>\n",
              "      <td>Skywest Airlines Inc.</td>\n",
              "      <td>...</td>\n",
              "      <td>0</td>\n",
              "      <td>0</td>\n",
              "      <td>0</td>\n",
              "      <td>0</td>\n",
              "      <td>1</td>\n",
              "      <td>0</td>\n",
              "      <td>0</td>\n",
              "      <td>0</td>\n",
              "      <td>0</td>\n",
              "      <td>0</td>\n",
              "    </tr>\n",
              "    <tr>\n",
              "      <th>...</th>\n",
              "      <td>...</td>\n",
              "      <td>...</td>\n",
              "      <td>...</td>\n",
              "      <td>...</td>\n",
              "      <td>...</td>\n",
              "      <td>...</td>\n",
              "      <td>...</td>\n",
              "      <td>...</td>\n",
              "      <td>...</td>\n",
              "      <td>...</td>\n",
              "      <td>...</td>\n",
              "      <td>...</td>\n",
              "      <td>...</td>\n",
              "      <td>...</td>\n",
              "      <td>...</td>\n",
              "      <td>...</td>\n",
              "      <td>...</td>\n",
              "      <td>...</td>\n",
              "      <td>...</td>\n",
              "      <td>...</td>\n",
              "      <td>...</td>\n",
              "    </tr>\n",
              "    <tr>\n",
              "      <th>4955293</th>\n",
              "      <td>2015-12-14</td>\n",
              "      <td>1088</td>\n",
              "      <td>86.0</td>\n",
              "      <td>21.0</td>\n",
              "      <td>1195</td>\n",
              "      <td>57.0</td>\n",
              "      <td>164</td>\n",
              "      <td>1145</td>\n",
              "      <td>87.0</td>\n",
              "      <td>Atlantic Southeast Airlines</td>\n",
              "      <td>...</td>\n",
              "      <td>0</td>\n",
              "      <td>0</td>\n",
              "      <td>0</td>\n",
              "      <td>0</td>\n",
              "      <td>0</td>\n",
              "      <td>0</td>\n",
              "      <td>0</td>\n",
              "      <td>0</td>\n",
              "      <td>0</td>\n",
              "      <td>0</td>\n",
              "    </tr>\n",
              "    <tr>\n",
              "      <th>2424300</th>\n",
              "      <td>2015-09-23</td>\n",
              "      <td>1005</td>\n",
              "      <td>-1.0</td>\n",
              "      <td>24.0</td>\n",
              "      <td>1028</td>\n",
              "      <td>321.0</td>\n",
              "      <td>2125</td>\n",
              "      <td>1146</td>\n",
              "      <td>-20.0</td>\n",
              "      <td>American Airlines Inc.</td>\n",
              "      <td>...</td>\n",
              "      <td>0</td>\n",
              "      <td>0</td>\n",
              "      <td>0</td>\n",
              "      <td>0</td>\n",
              "      <td>0</td>\n",
              "      <td>0</td>\n",
              "      <td>0</td>\n",
              "      <td>0</td>\n",
              "      <td>0</td>\n",
              "      <td>0</td>\n",
              "    </tr>\n",
              "    <tr>\n",
              "      <th>3531424</th>\n",
              "      <td>2015-07-14</td>\n",
              "      <td>715</td>\n",
              "      <td>18.0</td>\n",
              "      <td>7.0</td>\n",
              "      <td>740</td>\n",
              "      <td>85.0</td>\n",
              "      <td>480</td>\n",
              "      <td>800</td>\n",
              "      <td>9.0</td>\n",
              "      <td>Southwest Airlines Co.</td>\n",
              "      <td>...</td>\n",
              "      <td>0</td>\n",
              "      <td>0</td>\n",
              "      <td>0</td>\n",
              "      <td>0</td>\n",
              "      <td>0</td>\n",
              "      <td>1</td>\n",
              "      <td>0</td>\n",
              "      <td>0</td>\n",
              "      <td>0</td>\n",
              "      <td>0</td>\n",
              "    </tr>\n",
              "    <tr>\n",
              "      <th>5200874</th>\n",
              "      <td>2015-09-04</td>\n",
              "      <td>1119</td>\n",
              "      <td>145.0</td>\n",
              "      <td>11.0</td>\n",
              "      <td>1275</td>\n",
              "      <td>106.0</td>\n",
              "      <td>533</td>\n",
              "      <td>1225</td>\n",
              "      <td>156.0</td>\n",
              "      <td>Atlantic Southeast Airlines</td>\n",
              "      <td>...</td>\n",
              "      <td>0</td>\n",
              "      <td>0</td>\n",
              "      <td>0</td>\n",
              "      <td>0</td>\n",
              "      <td>0</td>\n",
              "      <td>0</td>\n",
              "      <td>0</td>\n",
              "      <td>0</td>\n",
              "      <td>0</td>\n",
              "      <td>0</td>\n",
              "    </tr>\n",
              "    <tr>\n",
              "      <th>5115535</th>\n",
              "      <td>2015-02-04</td>\n",
              "      <td>832</td>\n",
              "      <td>-4.0</td>\n",
              "      <td>43.0</td>\n",
              "      <td>871</td>\n",
              "      <td>152.0</td>\n",
              "      <td>789</td>\n",
              "      <td>924</td>\n",
              "      <td>19.0</td>\n",
              "      <td>Atlantic Southeast Airlines</td>\n",
              "      <td>...</td>\n",
              "      <td>0</td>\n",
              "      <td>0</td>\n",
              "      <td>0</td>\n",
              "      <td>0</td>\n",
              "      <td>0</td>\n",
              "      <td>0</td>\n",
              "      <td>0</td>\n",
              "      <td>0</td>\n",
              "      <td>0</td>\n",
              "      <td>0</td>\n",
              "    </tr>\n",
              "  </tbody>\n",
              "</table>\n",
              "<p>15000 rows × 34 columns</p>\n",
              "</div>\n",
              "      <button class=\"colab-df-convert\" onclick=\"convertToInteractive('df-2ebc2153-4413-467e-b96b-c9a9739063d6')\"\n",
              "              title=\"Convert this dataframe to an interactive table.\"\n",
              "              style=\"display:none;\">\n",
              "        \n",
              "  <svg xmlns=\"http://www.w3.org/2000/svg\" height=\"24px\"viewBox=\"0 0 24 24\"\n",
              "       width=\"24px\">\n",
              "    <path d=\"M0 0h24v24H0V0z\" fill=\"none\"/>\n",
              "    <path d=\"M18.56 5.44l.94 2.06.94-2.06 2.06-.94-2.06-.94-.94-2.06-.94 2.06-2.06.94zm-11 1L8.5 8.5l.94-2.06 2.06-.94-2.06-.94L8.5 2.5l-.94 2.06-2.06.94zm10 10l.94 2.06.94-2.06 2.06-.94-2.06-.94-.94-2.06-.94 2.06-2.06.94z\"/><path d=\"M17.41 7.96l-1.37-1.37c-.4-.4-.92-.59-1.43-.59-.52 0-1.04.2-1.43.59L10.3 9.45l-7.72 7.72c-.78.78-.78 2.05 0 2.83L4 21.41c.39.39.9.59 1.41.59.51 0 1.02-.2 1.41-.59l7.78-7.78 2.81-2.81c.8-.78.8-2.07 0-2.86zM5.41 20L4 18.59l7.72-7.72 1.47 1.35L5.41 20z\"/>\n",
              "  </svg>\n",
              "      </button>\n",
              "      \n",
              "  <style>\n",
              "    .colab-df-container {\n",
              "      display:flex;\n",
              "      flex-wrap:wrap;\n",
              "      gap: 12px;\n",
              "    }\n",
              "\n",
              "    .colab-df-convert {\n",
              "      background-color: #E8F0FE;\n",
              "      border: none;\n",
              "      border-radius: 50%;\n",
              "      cursor: pointer;\n",
              "      display: none;\n",
              "      fill: #1967D2;\n",
              "      height: 32px;\n",
              "      padding: 0 0 0 0;\n",
              "      width: 32px;\n",
              "    }\n",
              "\n",
              "    .colab-df-convert:hover {\n",
              "      background-color: #E2EBFA;\n",
              "      box-shadow: 0px 1px 2px rgba(60, 64, 67, 0.3), 0px 1px 3px 1px rgba(60, 64, 67, 0.15);\n",
              "      fill: #174EA6;\n",
              "    }\n",
              "\n",
              "    [theme=dark] .colab-df-convert {\n",
              "      background-color: #3B4455;\n",
              "      fill: #D2E3FC;\n",
              "    }\n",
              "\n",
              "    [theme=dark] .colab-df-convert:hover {\n",
              "      background-color: #434B5C;\n",
              "      box-shadow: 0px 1px 3px 1px rgba(0, 0, 0, 0.15);\n",
              "      filter: drop-shadow(0px 1px 2px rgba(0, 0, 0, 0.3));\n",
              "      fill: #FFFFFF;\n",
              "    }\n",
              "  </style>\n",
              "\n",
              "      <script>\n",
              "        const buttonEl =\n",
              "          document.querySelector('#df-2ebc2153-4413-467e-b96b-c9a9739063d6 button.colab-df-convert');\n",
              "        buttonEl.style.display =\n",
              "          google.colab.kernel.accessAllowed ? 'block' : 'none';\n",
              "\n",
              "        async function convertToInteractive(key) {\n",
              "          const element = document.querySelector('#df-2ebc2153-4413-467e-b96b-c9a9739063d6');\n",
              "          const dataTable =\n",
              "            await google.colab.kernel.invokeFunction('convertToInteractive',\n",
              "                                                     [key], {});\n",
              "          if (!dataTable) return;\n",
              "\n",
              "          const docLinkHtml = 'Like what you see? Visit the ' +\n",
              "            '<a target=\"_blank\" href=https://colab.research.google.com/notebooks/data_table.ipynb>data table notebook</a>'\n",
              "            + ' to learn more about interactive tables.';\n",
              "          element.innerHTML = '';\n",
              "          dataTable['output_type'] = 'display_data';\n",
              "          await google.colab.output.renderOutput(dataTable, element);\n",
              "          const docLink = document.createElement('div');\n",
              "          docLink.innerHTML = docLinkHtml;\n",
              "          element.appendChild(docLink);\n",
              "        }\n",
              "      </script>\n",
              "    </div>\n",
              "  </div>\n",
              "  "
            ]
          },
          "metadata": {},
          "execution_count": 5
        }
      ],
      "source": [
        "sampled_data"
      ]
    },
    {
      "cell_type": "code",
      "execution_count": 6,
      "metadata": {
        "id": "uNKtt5VJ36iA"
      },
      "outputs": [],
      "source": [
        "X = sampled_data.drop(['date' ,'arrival_delay', 'airline', 'scheduled_departure', 'wheels_off'], axis=1)\n",
        "y = sampled_data['arrival_delay']"
      ]
    },
    {
      "cell_type": "code",
      "execution_count": 7,
      "metadata": {
        "colab": {
          "base_uri": "https://localhost:8080/",
          "height": 335
        },
        "id": "JGAloU73xZP_",
        "outputId": "50e7b4a5-e005-40d3-9dee-addfe0baaee3"
      },
      "outputs": [
        {
          "output_type": "execute_result",
          "data": {
            "text/plain": [
              "         departure_delay  taxi_out  scheduled_time  distance  \\\n",
              "5142765              3.0      15.0           217.0      1330   \n",
              "3901978             -6.0      11.0            90.0       495   \n",
              "1709905            -11.0      12.0            73.0       273   \n",
              "4853679             13.0      15.0           105.0       528   \n",
              "2891404             -6.0      23.0           161.0      1075   \n",
              "\n",
              "         scheduled_arrival  scheduled_departure_norm  \\\n",
              "5142765               1068                  3.713188   \n",
              "3901978                435                  1.767146   \n",
              "1709905                433                  1.570796   \n",
              "4853679               1383                  5.576327   \n",
              "2891404               1374                  5.030912   \n",
              "\n",
              "         cos_scheduled_departure_norm  day_of_week_norm  cos_day_of_week_norm  \\\n",
              "5142765                 -8.410390e-01          3.590392             -0.900969   \n",
              "3901978                 -1.950903e-01          4.487990             -0.222521   \n",
              "1709905                  6.123234e-17          4.487990             -0.222521   \n",
              "4853679                  7.604060e-01          2.692794             -0.900969   \n",
              "2891404                  3.131638e-01          0.897598              0.623490   \n",
              "\n",
              "         scheduled_arrival_norm  ...  airline_Delta Air Lines Inc.  \\\n",
              "5142765                4.660029  ...                             0   \n",
              "3901978                1.898046  ...                             0   \n",
              "1709905                1.889319  ...                             0   \n",
              "4853679                6.034476  ...                             0   \n",
              "2891404                5.995206  ...                             0   \n",
              "\n",
              "         airline_Frontier Airlines Inc.  airline_Hawaiian Airlines Inc.  \\\n",
              "5142765                               0                               0   \n",
              "3901978                               0                               0   \n",
              "1709905                               0                               0   \n",
              "4853679                               0                               0   \n",
              "2891404                               0                               0   \n",
              "\n",
              "         airline_JetBlue Airways  airline_Skywest Airlines Inc.  \\\n",
              "5142765                        0                              0   \n",
              "3901978                        0                              0   \n",
              "1709905                        1                              0   \n",
              "4853679                        0                              0   \n",
              "2891404                        0                              1   \n",
              "\n",
              "         airline_Southwest Airlines Co.  airline_Spirit Air Lines  \\\n",
              "5142765                               0                         0   \n",
              "3901978                               1                         0   \n",
              "1709905                               0                         0   \n",
              "4853679                               0                         0   \n",
              "2891404                               0                         0   \n",
              "\n",
              "         airline_US Airways Inc.  airline_United Air Lines Inc.  \\\n",
              "5142765                        0                              0   \n",
              "3901978                        0                              0   \n",
              "1709905                        0                              0   \n",
              "4853679                        0                              0   \n",
              "2891404                        0                              0   \n",
              "\n",
              "         airline_Virgin America  \n",
              "5142765                       0  \n",
              "3901978                       0  \n",
              "1709905                       0  \n",
              "4853679                       0  \n",
              "2891404                       0  \n",
              "\n",
              "[5 rows x 29 columns]"
            ],
            "text/html": [
              "\n",
              "  <div id=\"df-664f481b-90f4-43a6-a2a8-9f4b21e8ea34\">\n",
              "    <div class=\"colab-df-container\">\n",
              "      <div>\n",
              "<style scoped>\n",
              "    .dataframe tbody tr th:only-of-type {\n",
              "        vertical-align: middle;\n",
              "    }\n",
              "\n",
              "    .dataframe tbody tr th {\n",
              "        vertical-align: top;\n",
              "    }\n",
              "\n",
              "    .dataframe thead th {\n",
              "        text-align: right;\n",
              "    }\n",
              "</style>\n",
              "<table border=\"1\" class=\"dataframe\">\n",
              "  <thead>\n",
              "    <tr style=\"text-align: right;\">\n",
              "      <th></th>\n",
              "      <th>departure_delay</th>\n",
              "      <th>taxi_out</th>\n",
              "      <th>scheduled_time</th>\n",
              "      <th>distance</th>\n",
              "      <th>scheduled_arrival</th>\n",
              "      <th>scheduled_departure_norm</th>\n",
              "      <th>cos_scheduled_departure_norm</th>\n",
              "      <th>day_of_week_norm</th>\n",
              "      <th>cos_day_of_week_norm</th>\n",
              "      <th>scheduled_arrival_norm</th>\n",
              "      <th>...</th>\n",
              "      <th>airline_Delta Air Lines Inc.</th>\n",
              "      <th>airline_Frontier Airlines Inc.</th>\n",
              "      <th>airline_Hawaiian Airlines Inc.</th>\n",
              "      <th>airline_JetBlue Airways</th>\n",
              "      <th>airline_Skywest Airlines Inc.</th>\n",
              "      <th>airline_Southwest Airlines Co.</th>\n",
              "      <th>airline_Spirit Air Lines</th>\n",
              "      <th>airline_US Airways Inc.</th>\n",
              "      <th>airline_United Air Lines Inc.</th>\n",
              "      <th>airline_Virgin America</th>\n",
              "    </tr>\n",
              "  </thead>\n",
              "  <tbody>\n",
              "    <tr>\n",
              "      <th>5142765</th>\n",
              "      <td>3.0</td>\n",
              "      <td>15.0</td>\n",
              "      <td>217.0</td>\n",
              "      <td>1330</td>\n",
              "      <td>1068</td>\n",
              "      <td>3.713188</td>\n",
              "      <td>-8.410390e-01</td>\n",
              "      <td>3.590392</td>\n",
              "      <td>-0.900969</td>\n",
              "      <td>4.660029</td>\n",
              "      <td>...</td>\n",
              "      <td>0</td>\n",
              "      <td>0</td>\n",
              "      <td>0</td>\n",
              "      <td>0</td>\n",
              "      <td>0</td>\n",
              "      <td>0</td>\n",
              "      <td>0</td>\n",
              "      <td>0</td>\n",
              "      <td>0</td>\n",
              "      <td>0</td>\n",
              "    </tr>\n",
              "    <tr>\n",
              "      <th>3901978</th>\n",
              "      <td>-6.0</td>\n",
              "      <td>11.0</td>\n",
              "      <td>90.0</td>\n",
              "      <td>495</td>\n",
              "      <td>435</td>\n",
              "      <td>1.767146</td>\n",
              "      <td>-1.950903e-01</td>\n",
              "      <td>4.487990</td>\n",
              "      <td>-0.222521</td>\n",
              "      <td>1.898046</td>\n",
              "      <td>...</td>\n",
              "      <td>0</td>\n",
              "      <td>0</td>\n",
              "      <td>0</td>\n",
              "      <td>0</td>\n",
              "      <td>0</td>\n",
              "      <td>1</td>\n",
              "      <td>0</td>\n",
              "      <td>0</td>\n",
              "      <td>0</td>\n",
              "      <td>0</td>\n",
              "    </tr>\n",
              "    <tr>\n",
              "      <th>1709905</th>\n",
              "      <td>-11.0</td>\n",
              "      <td>12.0</td>\n",
              "      <td>73.0</td>\n",
              "      <td>273</td>\n",
              "      <td>433</td>\n",
              "      <td>1.570796</td>\n",
              "      <td>6.123234e-17</td>\n",
              "      <td>4.487990</td>\n",
              "      <td>-0.222521</td>\n",
              "      <td>1.889319</td>\n",
              "      <td>...</td>\n",
              "      <td>0</td>\n",
              "      <td>0</td>\n",
              "      <td>0</td>\n",
              "      <td>1</td>\n",
              "      <td>0</td>\n",
              "      <td>0</td>\n",
              "      <td>0</td>\n",
              "      <td>0</td>\n",
              "      <td>0</td>\n",
              "      <td>0</td>\n",
              "    </tr>\n",
              "    <tr>\n",
              "      <th>4853679</th>\n",
              "      <td>13.0</td>\n",
              "      <td>15.0</td>\n",
              "      <td>105.0</td>\n",
              "      <td>528</td>\n",
              "      <td>1383</td>\n",
              "      <td>5.576327</td>\n",
              "      <td>7.604060e-01</td>\n",
              "      <td>2.692794</td>\n",
              "      <td>-0.900969</td>\n",
              "      <td>6.034476</td>\n",
              "      <td>...</td>\n",
              "      <td>0</td>\n",
              "      <td>0</td>\n",
              "      <td>0</td>\n",
              "      <td>0</td>\n",
              "      <td>0</td>\n",
              "      <td>0</td>\n",
              "      <td>0</td>\n",
              "      <td>0</td>\n",
              "      <td>0</td>\n",
              "      <td>0</td>\n",
              "    </tr>\n",
              "    <tr>\n",
              "      <th>2891404</th>\n",
              "      <td>-6.0</td>\n",
              "      <td>23.0</td>\n",
              "      <td>161.0</td>\n",
              "      <td>1075</td>\n",
              "      <td>1374</td>\n",
              "      <td>5.030912</td>\n",
              "      <td>3.131638e-01</td>\n",
              "      <td>0.897598</td>\n",
              "      <td>0.623490</td>\n",
              "      <td>5.995206</td>\n",
              "      <td>...</td>\n",
              "      <td>0</td>\n",
              "      <td>0</td>\n",
              "      <td>0</td>\n",
              "      <td>0</td>\n",
              "      <td>1</td>\n",
              "      <td>0</td>\n",
              "      <td>0</td>\n",
              "      <td>0</td>\n",
              "      <td>0</td>\n",
              "      <td>0</td>\n",
              "    </tr>\n",
              "  </tbody>\n",
              "</table>\n",
              "<p>5 rows × 29 columns</p>\n",
              "</div>\n",
              "      <button class=\"colab-df-convert\" onclick=\"convertToInteractive('df-664f481b-90f4-43a6-a2a8-9f4b21e8ea34')\"\n",
              "              title=\"Convert this dataframe to an interactive table.\"\n",
              "              style=\"display:none;\">\n",
              "        \n",
              "  <svg xmlns=\"http://www.w3.org/2000/svg\" height=\"24px\"viewBox=\"0 0 24 24\"\n",
              "       width=\"24px\">\n",
              "    <path d=\"M0 0h24v24H0V0z\" fill=\"none\"/>\n",
              "    <path d=\"M18.56 5.44l.94 2.06.94-2.06 2.06-.94-2.06-.94-.94-2.06-.94 2.06-2.06.94zm-11 1L8.5 8.5l.94-2.06 2.06-.94-2.06-.94L8.5 2.5l-.94 2.06-2.06.94zm10 10l.94 2.06.94-2.06 2.06-.94-2.06-.94-.94-2.06-.94 2.06-2.06.94z\"/><path d=\"M17.41 7.96l-1.37-1.37c-.4-.4-.92-.59-1.43-.59-.52 0-1.04.2-1.43.59L10.3 9.45l-7.72 7.72c-.78.78-.78 2.05 0 2.83L4 21.41c.39.39.9.59 1.41.59.51 0 1.02-.2 1.41-.59l7.78-7.78 2.81-2.81c.8-.78.8-2.07 0-2.86zM5.41 20L4 18.59l7.72-7.72 1.47 1.35L5.41 20z\"/>\n",
              "  </svg>\n",
              "      </button>\n",
              "      \n",
              "  <style>\n",
              "    .colab-df-container {\n",
              "      display:flex;\n",
              "      flex-wrap:wrap;\n",
              "      gap: 12px;\n",
              "    }\n",
              "\n",
              "    .colab-df-convert {\n",
              "      background-color: #E8F0FE;\n",
              "      border: none;\n",
              "      border-radius: 50%;\n",
              "      cursor: pointer;\n",
              "      display: none;\n",
              "      fill: #1967D2;\n",
              "      height: 32px;\n",
              "      padding: 0 0 0 0;\n",
              "      width: 32px;\n",
              "    }\n",
              "\n",
              "    .colab-df-convert:hover {\n",
              "      background-color: #E2EBFA;\n",
              "      box-shadow: 0px 1px 2px rgba(60, 64, 67, 0.3), 0px 1px 3px 1px rgba(60, 64, 67, 0.15);\n",
              "      fill: #174EA6;\n",
              "    }\n",
              "\n",
              "    [theme=dark] .colab-df-convert {\n",
              "      background-color: #3B4455;\n",
              "      fill: #D2E3FC;\n",
              "    }\n",
              "\n",
              "    [theme=dark] .colab-df-convert:hover {\n",
              "      background-color: #434B5C;\n",
              "      box-shadow: 0px 1px 3px 1px rgba(0, 0, 0, 0.15);\n",
              "      filter: drop-shadow(0px 1px 2px rgba(0, 0, 0, 0.3));\n",
              "      fill: #FFFFFF;\n",
              "    }\n",
              "  </style>\n",
              "\n",
              "      <script>\n",
              "        const buttonEl =\n",
              "          document.querySelector('#df-664f481b-90f4-43a6-a2a8-9f4b21e8ea34 button.colab-df-convert');\n",
              "        buttonEl.style.display =\n",
              "          google.colab.kernel.accessAllowed ? 'block' : 'none';\n",
              "\n",
              "        async function convertToInteractive(key) {\n",
              "          const element = document.querySelector('#df-664f481b-90f4-43a6-a2a8-9f4b21e8ea34');\n",
              "          const dataTable =\n",
              "            await google.colab.kernel.invokeFunction('convertToInteractive',\n",
              "                                                     [key], {});\n",
              "          if (!dataTable) return;\n",
              "\n",
              "          const docLinkHtml = 'Like what you see? Visit the ' +\n",
              "            '<a target=\"_blank\" href=https://colab.research.google.com/notebooks/data_table.ipynb>data table notebook</a>'\n",
              "            + ' to learn more about interactive tables.';\n",
              "          element.innerHTML = '';\n",
              "          dataTable['output_type'] = 'display_data';\n",
              "          await google.colab.output.renderOutput(dataTable, element);\n",
              "          const docLink = document.createElement('div');\n",
              "          docLink.innerHTML = docLinkHtml;\n",
              "          element.appendChild(docLink);\n",
              "        }\n",
              "      </script>\n",
              "    </div>\n",
              "  </div>\n",
              "  "
            ]
          },
          "metadata": {},
          "execution_count": 7
        }
      ],
      "source": [
        "X.head()"
      ]
    },
    {
      "cell_type": "code",
      "execution_count": 8,
      "metadata": {
        "id": "Fgbar62sxaJF"
      },
      "outputs": [],
      "source": [
        "X_train, X_test, y_train, y_test = train_test_split(X, y, test_size=0.25, random_state=42)"
      ]
    },
    {
      "cell_type": "code",
      "execution_count": 9,
      "metadata": {
        "id": "Epusnk5iJOq_"
      },
      "outputs": [],
      "source": [
        "model = DecisionTreeRegressor()"
      ]
    },
    {
      "cell_type": "code",
      "execution_count": 10,
      "metadata": {
        "colab": {
          "base_uri": "https://localhost:8080/"
        },
        "id": "tDiBFsZ2JS0r",
        "outputId": "212a6a76-6134-4f23-ad38-6bcac60fec73"
      },
      "outputs": [
        {
          "output_type": "stream",
          "name": "stdout",
          "text": [
            "{'max_depth': 7, 'min_samples_split': 12}\n",
            "0.8773098630736795\n"
          ]
        }
      ],
      "source": [
        "kf = GridSearchCV(model,\n",
        "                  param_grid = {'max_depth': range(1, 10),\n",
        "                  'min_samples_split': range(2, 50, 2)\n",
        "                  },\n",
        "                  cv = 10, \n",
        "                  scoring = 'r2')\n",
        "kf.fit(X_train, y_train)\n",
        "\n",
        "print(kf.best_params_)\n",
        "print(kf.best_score_)"
      ]
    },
    {
      "cell_type": "markdown",
      "metadata": {
        "id": "FtTmwPpdK0sp"
      },
      "source": [
        "II podejście"
      ]
    },
    {
      "cell_type": "code",
      "execution_count": 11,
      "metadata": {
        "id": "9R2Aen1-LLjC"
      },
      "outputs": [],
      "source": [
        "sample_size = 15000\n",
        "sampled_data = data.sample(n= sample_size, random_state = 42)"
      ]
    },
    {
      "cell_type": "code",
      "execution_count": 12,
      "metadata": {
        "id": "c9OlrtHsLLjD"
      },
      "outputs": [],
      "source": [
        "X = sampled_data.drop(['date' ,'arrival_delay', 'airline', 'scheduled_departure', 'wheels_off'], axis=1)\n",
        "y = sampled_data['arrival_delay']"
      ]
    },
    {
      "cell_type": "code",
      "execution_count": 13,
      "metadata": {
        "id": "mK0U9XI1LLjE"
      },
      "outputs": [],
      "source": [
        "X_train, X_test, y_train, y_test = train_test_split(X, y, test_size=0.25, random_state=42)"
      ]
    },
    {
      "cell_type": "code",
      "execution_count": 14,
      "metadata": {
        "id": "_WK6DYjYLLjE"
      },
      "outputs": [],
      "source": [
        "model = DecisionTreeRegressor()"
      ]
    },
    {
      "cell_type": "code",
      "execution_count": 15,
      "metadata": {
        "colab": {
          "base_uri": "https://localhost:8080/"
        },
        "id": "CTByxWNCK2HS",
        "outputId": "77463be5-d4a4-484a-e240-87228a08dfdb"
      },
      "outputs": [
        {
          "output_type": "stream",
          "name": "stdout",
          "text": [
            "{'max_depth': 7, 'min_samples_split': 20}\n",
            "0.8624526848429757\n"
          ]
        }
      ],
      "source": [
        "kf = GridSearchCV(model,\n",
        "                  param_grid = {'max_depth': range(1, 15),\n",
        "                  'min_samples_split': range(20, 100, 5)\n",
        "                  },\n",
        "                  cv = 14, \n",
        "                  scoring = 'r2')\n",
        "kf.fit(X_train, y_train)\n",
        "\n",
        "print(kf.best_params_)\n",
        "print(kf.best_score_)"
      ]
    },
    {
      "cell_type": "code",
      "execution_count": null,
      "metadata": {
        "id": "xlzCgCA9R7zn"
      },
      "outputs": [],
      "source": [
        "import matplotlib.pyplot as plt\n",
        "\n",
        "model.feature_importances_\n",
        "\n",
        "feat_importances = pd.Series(reg.feature_importances_, index=X_train.columns)\n",
        "feat_importances.nlargest(5).plot(kind='barh')\n",
        "\n",
        "plt.show()"
      ]
    },
    {
      "cell_type": "markdown",
      "metadata": {
        "id": "WYQ8H_s-OIay"
      },
      "source": [
        "III podejście"
      ]
    },
    {
      "cell_type": "code",
      "execution_count": 19,
      "metadata": {
        "id": "AjDG4Ao1OJeE"
      },
      "outputs": [],
      "source": [
        "sample_size = 20000\n",
        "sampled_data = data.sample(n= sample_size, random_state = 42)\n",
        "\n",
        "X = sampled_data.drop(['date' ,'arrival_delay', 'airline', 'scheduled_departure', 'wheels_off'], axis=1)\n",
        "y = sampled_data['arrival_delay']\n",
        "\n",
        "X_train, X_test, y_train, y_test = train_test_split(X, y, test_size=0.2, random_state=42)"
      ]
    },
    {
      "cell_type": "code",
      "execution_count": 17,
      "metadata": {
        "colab": {
          "base_uri": "https://localhost:8080/"
        },
        "id": "BCQm6sCOOovz",
        "outputId": "77799a94-4195-4875-a6ad-cf9579e56f27"
      },
      "outputs": [
        {
          "output_type": "execute_result",
          "data": {
            "text/plain": [
              "(16000, 29)"
            ]
          },
          "metadata": {},
          "execution_count": 17
        }
      ],
      "source": [
        "X_train.shape"
      ]
    },
    {
      "cell_type": "code",
      "execution_count": 18,
      "metadata": {
        "colab": {
          "base_uri": "https://localhost:8080/"
        },
        "id": "NbsUsPfROYdR",
        "outputId": "fed3f5c4-e918-4fe4-bed4-c3c3121feb9f"
      },
      "outputs": [
        {
          "output_type": "stream",
          "name": "stdout",
          "text": [
            "{'max_depth': 7, 'min_samples_split': 15}\n",
            "0.8998589022051846\n"
          ]
        }
      ],
      "source": [
        "kf = GridSearchCV(model,\n",
        "                  param_grid = {'max_depth': range(1, 25),\n",
        "                  'min_samples_split': range(10, 120, 5)\n",
        "                  },\n",
        "                  cv = 20, \n",
        "                  scoring = 'r2')\n",
        "kf.fit(X_train, y_train)\n",
        "\n",
        "print(kf.best_params_)\n",
        "print(kf.best_score_)"
      ]
    },
    {
      "cell_type": "markdown",
      "source": [
        "IV podejscie - obecnie najlepsze"
      ],
      "metadata": {
        "id": "1UzKzfKtaY_y"
      }
    },
    {
      "cell_type": "code",
      "source": [
        "kf = GridSearchCV(model,\n",
        "                  param_grid = {'max_depth': range(1, 25),\n",
        "                  'min_samples_split': range(10, 150, 10)\n",
        "                  },\n",
        "                  cv = 15, \n",
        "                  scoring = 'r2')\n",
        "kf.fit(X_train, y_train)\n",
        "\n",
        "print(kf.best_params_)\n",
        "print(kf.best_score_)"
      ],
      "metadata": {
        "colab": {
          "base_uri": "https://localhost:8080/"
        },
        "id": "-Kb48fcMNzkL",
        "outputId": "992966a6-4545-4d66-fc1d-5777dbdbb7e7"
      },
      "execution_count": null,
      "outputs": [
        {
          "output_type": "stream",
          "name": "stdout",
          "text": [
            "{'max_depth': 7, 'min_samples_split': 10}\n",
            "0.9058971297811589\n"
          ]
        }
      ]
    },
    {
      "cell_type": "markdown",
      "source": [
        "V podejscie"
      ],
      "metadata": {
        "id": "0aU-I3Auf6Oo"
      }
    },
    {
      "cell_type": "code",
      "source": [
        "kf = GridSearchCV(model,\n",
        "                  param_grid = {'max_depth': range(6, 30),\n",
        "                  'min_samples_split': range(5, 150, 5)\n",
        "                  },\n",
        "                  cv = 15, \n",
        "                  scoring = 'r2')\n",
        "kf.fit(X_train, y_train)\n",
        "\n",
        "print(kf.best_params_)\n",
        "print(kf.best_score_)"
      ],
      "metadata": {
        "colab": {
          "base_uri": "https://localhost:8080/"
        },
        "id": "gSRsaog7WEpi",
        "outputId": "e4835d75-5e3d-43a5-9a3c-d18a10ae3a43"
      },
      "execution_count": null,
      "outputs": [
        {
          "output_type": "stream",
          "name": "stdout",
          "text": [
            "{'max_depth': 7, 'min_samples_split': 20}\n",
            "0.9046551993818708\n"
          ]
        }
      ]
    },
    {
      "cell_type": "markdown",
      "source": [
        "Trenowanie modelu - IV podejście"
      ],
      "metadata": {
        "id": "WH1fCBOYakx9"
      }
    },
    {
      "cell_type": "code",
      "source": [
        "from sklearn.metrics import mean_absolute_error, r2_score, mean_squared_error\n",
        "\n",
        "best_max_depth = 7\n",
        "best_min_samples_split = 10"
      ],
      "metadata": {
        "id": "DfPpxxjQXtLI"
      },
      "execution_count": 20,
      "outputs": []
    },
    {
      "cell_type": "code",
      "source": [
        "best_model = DecisionTreeRegressor(max_depth=best_max_depth, min_samples_split=best_min_samples_split, random_state = 42)\n",
        "\n",
        "best_model.fit(X_train, y_train)\n",
        "\n",
        "y_pred = best_model.predict(X_test)\n",
        "\n",
        "mae = mean_absolute_error(y_test, y_pred)\n",
        "mse = mean_squared_error(y_test, y_pred)\n",
        "r2 = r2_score(y_test, y_pred)"
      ],
      "metadata": {
        "id": "G739BhN0art4"
      },
      "execution_count": 23,
      "outputs": []
    },
    {
      "cell_type": "code",
      "source": [
        "print(f'Mean Absolute Error: {mae}')\n",
        "print(f'Mean Squared Error: {mse}')\n",
        "print(f'R2_Score: {r2}')"
      ],
      "metadata": {
        "colab": {
          "base_uri": "https://localhost:8080/"
        },
        "id": "qjWELYzVa2Z-",
        "outputId": "c39164cf-cafd-45fa-e88d-8c115ff18819"
      },
      "execution_count": 24,
      "outputs": [
        {
          "output_type": "stream",
          "name": "stdout",
          "text": [
            "Mean Absolute Error: 8.817032584638593\n",
            "Mean Squared Error: 280.8453335311462\n",
            "R2_Score: 0.8745909934392048\n"
          ]
        }
      ]
    },
    {
      "cell_type": "markdown",
      "source": [
        "Trenowanie modelu - V podejście"
      ],
      "metadata": {
        "id": "P0eoKt1OgDcP"
      }
    },
    {
      "cell_type": "code",
      "source": [
        "from sklearn.metrics import mean_absolute_error, r2_score, mean_squared_error\n",
        "\n",
        "best_max_depth = 7\n",
        "best_min_samples_split = 20"
      ],
      "metadata": {
        "id": "NW5IiTDRgDtc"
      },
      "execution_count": 25,
      "outputs": []
    },
    {
      "cell_type": "code",
      "source": [
        "best_model = DecisionTreeRegressor(max_depth=best_max_depth, min_samples_split=best_min_samples_split, random_state = 42)\n",
        "\n",
        "best_model.fit(X_train, y_train)\n",
        "\n",
        "y_pred = best_model.predict(X_test)\n",
        "\n",
        "mae = mean_absolute_error(y_test, y_pred)\n",
        "mse = mean_squared_error(y_test, y_pred)\n",
        "r2 = r2_score(y_test, y_pred)"
      ],
      "metadata": {
        "id": "pSAylnzdgDtd"
      },
      "execution_count": 26,
      "outputs": []
    },
    {
      "cell_type": "code",
      "source": [
        "print(f'Mean Absolute Error: {mae}')\n",
        "print(f'Mean Squared Error: {mse}')\n",
        "print(f'R2_Score: {r2}')"
      ],
      "metadata": {
        "colab": {
          "base_uri": "https://localhost:8080/"
        },
        "outputId": "23d619c1-3fdc-4c2c-c6d5-d595e1062287",
        "id": "2Ffhg5H3gDte"
      },
      "execution_count": 27,
      "outputs": [
        {
          "output_type": "stream",
          "name": "stdout",
          "text": [
            "Mean Absolute Error: 8.859970962233222\n",
            "Mean Squared Error: 284.4782855174858\n",
            "R2_Score: 0.8729687307732688\n"
          ]
        }
      ]
    },
    {
      "cell_type": "markdown",
      "source": [
        "Rysowanie drzewa decyzyjnego"
      ],
      "metadata": {
        "id": "Zi4I-G_acobs"
      }
    },
    {
      "cell_type": "code",
      "source": [
        "#rysowanie drzewa decyzyjnego\n",
        "fig = plt.figure(figsize=(25,15), dpi=125)\n",
        "tree_model = tree.plot_tree(best_model, feature_names = X.columns, filled = True)"
      ],
      "metadata": {
        "id": "FIF3jqNMctps"
      },
      "execution_count": null,
      "outputs": []
    }
  ],
  "metadata": {
    "colab": {
      "toc_visible": true,
      "provenance": [],
      "include_colab_link": true
    },
    "kernelspec": {
      "display_name": "Python 3",
      "name": "python3"
    },
    "language_info": {
      "name": "python"
    }
  },
  "nbformat": 4,
  "nbformat_minor": 0
}